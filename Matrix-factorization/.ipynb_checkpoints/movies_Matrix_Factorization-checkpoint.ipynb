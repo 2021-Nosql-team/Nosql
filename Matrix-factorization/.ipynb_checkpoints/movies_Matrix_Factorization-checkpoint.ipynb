{
 "cells": [
  {
   "cell_type": "code",
   "execution_count": 1,
   "metadata": {},
   "outputs": [],
   "source": [
    "import numpy as np\n",
    "import pandas as pd\n",
    "from scipy.sparse.linalg import svds\n",
    "from matplotlib import pyplot as plt\n",
    "\n",
    "from IPython.display import display, HTML"
   ]
  },
  {
   "cell_type": "code",
   "execution_count": 2,
   "metadata": {},
   "outputs": [
    {
     "name": "stdout",
     "output_type": "stream",
     "text": [
      "Wall time: 3.5 s\n"
     ]
    }
   ],
   "source": [
    "%%time\n",
    "movies = pd.read_csv(\"./movies.csv\")\n",
    "movies.dropna(inplace = True)\n",
    "movies.sort_values(by='movieId', inplace = True)\n",
    "movies.reset_index(inplace = True, drop = True)\n",
    "\n",
    "ratings = pd.read_csv('./ratings.csv')\n",
    "ratings.dropna(inplace = True)\n",
    "ratings.sort_values(by = ['userId','movieId'], inplace =True)\n",
    "ratings.reset_index(inplace = True, drop = True)"
   ]
  },
  {
   "cell_type": "code",
   "execution_count": 3,
   "metadata": {},
   "outputs": [
    {
     "name": "stdout",
     "output_type": "stream",
     "text": [
      "Wall time: 108 ms\n"
     ]
    }
   ],
   "source": [
    "%%time\n",
    "movies['year'] = movies.title.str.extract(\"\\((\\d{4})\\)\")\n",
    "movies.year = pd.to_datetime(movies.year, format = '%Y')\n",
    "movies.year = movies.year.dt.year\n",
    "movies.title = movies.title.str[:-7]\n",
    "\n",
    "# genres_df = pd.DataFrame(movies.genres.str.split('|').tolist()).stack().unique()\n",
    "# genres_df = pd.DataFrame(genres_df, columns = ['genre'])\n",
    "# movies = movies.join(movies.genres.str.get_dummies())\n",
    "# movies.drop('genres', inplace = True, axis=1)"
   ]
  },
  {
   "cell_type": "code",
   "execution_count": 4,
   "metadata": {},
   "outputs": [
    {
     "data": {
      "text/html": [
       "<div>\n",
       "<style scoped>\n",
       "    .dataframe tbody tr th:only-of-type {\n",
       "        vertical-align: middle;\n",
       "    }\n",
       "\n",
       "    .dataframe tbody tr th {\n",
       "        vertical-align: top;\n",
       "    }\n",
       "\n",
       "    .dataframe thead th {\n",
       "        text-align: right;\n",
       "    }\n",
       "</style>\n",
       "<table border=\"1\" class=\"dataframe\">\n",
       "  <thead>\n",
       "    <tr style=\"text-align: right;\">\n",
       "      <th></th>\n",
       "      <th>movieId</th>\n",
       "      <th>title</th>\n",
       "      <th>genres</th>\n",
       "      <th>year</th>\n",
       "    </tr>\n",
       "  </thead>\n",
       "  <tbody>\n",
       "    <tr>\n",
       "      <th>0</th>\n",
       "      <td>1</td>\n",
       "      <td>Toy Story</td>\n",
       "      <td>Adventure|Animation|Children|Comedy|Fantasy</td>\n",
       "      <td>1995.0</td>\n",
       "    </tr>\n",
       "    <tr>\n",
       "      <th>1</th>\n",
       "      <td>2</td>\n",
       "      <td>Jumanji</td>\n",
       "      <td>Adventure|Children|Fantasy</td>\n",
       "      <td>1995.0</td>\n",
       "    </tr>\n",
       "    <tr>\n",
       "      <th>2</th>\n",
       "      <td>3</td>\n",
       "      <td>Grumpier Old Men</td>\n",
       "      <td>Comedy|Romance</td>\n",
       "      <td>1995.0</td>\n",
       "    </tr>\n",
       "    <tr>\n",
       "      <th>3</th>\n",
       "      <td>4</td>\n",
       "      <td>Waiting to Exhale</td>\n",
       "      <td>Comedy|Drama|Romance</td>\n",
       "      <td>1995.0</td>\n",
       "    </tr>\n",
       "    <tr>\n",
       "      <th>4</th>\n",
       "      <td>5</td>\n",
       "      <td>Father of the Bride Part II</td>\n",
       "      <td>Comedy</td>\n",
       "      <td>1995.0</td>\n",
       "    </tr>\n",
       "  </tbody>\n",
       "</table>\n",
       "</div>"
      ],
      "text/plain": [
       "   movieId                        title  \\\n",
       "0        1                    Toy Story   \n",
       "1        2                      Jumanji   \n",
       "2        3             Grumpier Old Men   \n",
       "3        4            Waiting to Exhale   \n",
       "4        5  Father of the Bride Part II   \n",
       "\n",
       "                                        genres    year  \n",
       "0  Adventure|Animation|Children|Comedy|Fantasy  1995.0  \n",
       "1                   Adventure|Children|Fantasy  1995.0  \n",
       "2                               Comedy|Romance  1995.0  \n",
       "3                         Comedy|Drama|Romance  1995.0  \n",
       "4                                       Comedy  1995.0  "
      ]
     },
     "execution_count": 4,
     "metadata": {},
     "output_type": "execute_result"
    }
   ],
   "source": [
    "movies.head()"
   ]
  },
  {
   "cell_type": "code",
   "execution_count": 5,
   "metadata": {},
   "outputs": [
    {
     "data": {
      "text/html": [
       "<div>\n",
       "<style scoped>\n",
       "    .dataframe tbody tr th:only-of-type {\n",
       "        vertical-align: middle;\n",
       "    }\n",
       "\n",
       "    .dataframe tbody tr th {\n",
       "        vertical-align: top;\n",
       "    }\n",
       "\n",
       "    .dataframe thead th {\n",
       "        text-align: right;\n",
       "    }\n",
       "</style>\n",
       "<table border=\"1\" class=\"dataframe\">\n",
       "  <thead>\n",
       "    <tr style=\"text-align: right;\">\n",
       "      <th></th>\n",
       "      <th>userId</th>\n",
       "      <th>movieId</th>\n",
       "      <th>rating</th>\n",
       "      <th>timestamp</th>\n",
       "    </tr>\n",
       "  </thead>\n",
       "  <tbody>\n",
       "    <tr>\n",
       "      <th>0</th>\n",
       "      <td>1</td>\n",
       "      <td>296</td>\n",
       "      <td>5.0</td>\n",
       "      <td>1147880044</td>\n",
       "    </tr>\n",
       "    <tr>\n",
       "      <th>1</th>\n",
       "      <td>1</td>\n",
       "      <td>899</td>\n",
       "      <td>3.5</td>\n",
       "      <td>1147868510</td>\n",
       "    </tr>\n",
       "    <tr>\n",
       "      <th>2</th>\n",
       "      <td>1</td>\n",
       "      <td>1088</td>\n",
       "      <td>4.0</td>\n",
       "      <td>1147868495</td>\n",
       "    </tr>\n",
       "    <tr>\n",
       "      <th>3</th>\n",
       "      <td>1</td>\n",
       "      <td>1653</td>\n",
       "      <td>4.0</td>\n",
       "      <td>1147868097</td>\n",
       "    </tr>\n",
       "    <tr>\n",
       "      <th>4</th>\n",
       "      <td>1</td>\n",
       "      <td>2011</td>\n",
       "      <td>2.5</td>\n",
       "      <td>1147868079</td>\n",
       "    </tr>\n",
       "  </tbody>\n",
       "</table>\n",
       "</div>"
      ],
      "text/plain": [
       "   userId  movieId  rating   timestamp\n",
       "0       1      296     5.0  1147880044\n",
       "1       1      899     3.5  1147868510\n",
       "2       1     1088     4.0  1147868495\n",
       "3       1     1653     4.0  1147868097\n",
       "4       1     2011     2.5  1147868079"
      ]
     },
     "execution_count": 5,
     "metadata": {},
     "output_type": "execute_result"
    }
   ],
   "source": [
    "ratings.head()"
   ]
  },
  {
   "cell_type": "markdown",
   "metadata": {},
   "source": [
    "## Collaborative Filtering"
   ]
  },
  {
   "cell_type": "code",
   "execution_count": 6,
   "metadata": {},
   "outputs": [
    {
     "name": "stdout",
     "output_type": "stream",
     "text": [
      "162345\n",
      "62423\n"
     ]
    }
   ],
   "source": [
    "user_count = ratings['userId'].nunique()\n",
    "movie_count = movies['movieId'].nunique()\n",
    "\n",
    "print(user_count)\n",
    "print(movie_count)"
   ]
  },
  {
   "cell_type": "code",
   "execution_count": 7,
   "metadata": {},
   "outputs": [
    {
     "name": "stdout",
     "output_type": "stream",
     "text": [
      "         userId  movieId  rating   timestamp\n",
      "4700006  152578     2019     4.5  1182148903\n",
      "4700007  152578     2427     1.5  1182147134\n",
      "4700008  152578     2571     5.0  1206520957\n",
      "4700009  152578     3624     4.0  1182147167\n",
      "4700010  152578     3787     3.0  1182148772\n",
      "...         ...      ...     ...         ...\n",
      "5000014  162541     7090     4.5  1240953139\n",
      "5000015  162541     8961     4.0  1240953338\n",
      "5000016  162541     8983     4.5  1240953211\n",
      "5000017  162541    33794     4.0  1240951792\n",
      "5000018  162541    56176     2.0  1240950697\n",
      "\n",
      "[300013 rows x 4 columns]\n",
      "Wall time: 1.54 s\n"
     ]
    }
   ],
   "source": [
    "%%time\n",
    "## Utility matrix\n",
    "#util = pd.pivot_table(data = ratings, values = 'rating', index = 'userId', columns = 'movieId')\n",
    "\n",
    "# Since we have 20 million data entries, we are going to take a sample of 5 million to make it easier to work with\n",
    "data = ratings.iloc[4700006:,:]\n",
    "print(data)\n",
    "#data = ratings.sample(frac = 0.249)\n",
    "util = pd.pivot_table(data = data, values = 'rating', index= 'userId', columns = 'movieId')\n",
    "#util = util.fillna(util.mean())"
   ]
  },
  {
   "cell_type": "code",
   "execution_count": 8,
   "metadata": {},
   "outputs": [
    {
     "data": {
      "text/plain": [
       "(1245005, 4)"
      ]
     },
     "execution_count": 8,
     "metadata": {},
     "output_type": "execute_result"
    }
   ],
   "source": [
    "d = ratings.sample(frac=0.249)\n",
    "d.shape"
   ]
  },
  {
   "cell_type": "code",
   "execution_count": 9,
   "metadata": {},
   "outputs": [],
   "source": [
    "means = np.array(util.mean(axis=1))\n",
    "util_center = util.sub(means, axis = 0)\n",
    "util_center = util_center.fillna(0)"
   ]
  },
  {
   "cell_type": "code",
   "execution_count": 22,
   "metadata": {},
   "outputs": [
    {
     "name": "stdout",
     "output_type": "stream",
     "text": [
      "movieId    1       2       3       4       5         6       7       8       \\\n",
      "userId                                                                        \n",
      "10721    0.000000     0.0     0.0     0.0     0.0  1.330882     0.0     0.0   \n",
      "18668    0.000000     0.0     0.0     0.0     0.0  0.000000     0.0     0.0   \n",
      "9346     0.022491     0.0     0.0     0.0     0.0  0.000000     0.0     0.0   \n",
      "2220     0.000000     0.0     0.0     0.0     0.0  0.000000     0.0     0.0   \n",
      "15140    0.000000     0.0     0.0     0.0     0.0  0.000000     0.0     0.0   \n",
      "\n",
      "movieId  9         10      ...  208791  208793  208795  208800  208939  \\\n",
      "userId                     ...                                           \n",
      "10721       0.0 -1.669118  ...     0.0     0.0     0.0     0.0     0.0   \n",
      "18668       0.0  0.000000  ...     0.0     0.0     0.0     0.0     0.0   \n",
      "9346        0.0  0.000000  ...     0.0     0.0     0.0     0.0     0.0   \n",
      "2220        0.0  0.000000  ...     0.0     0.0     0.0     0.0     0.0   \n",
      "15140       0.0  0.000000  ...     0.0     0.0     0.0     0.0     0.0   \n",
      "\n",
      "movieId  209049  209053  209055  209103  209163  \n",
      "userId                                           \n",
      "10721       0.0     0.0     0.0     0.0     0.0  \n",
      "18668       0.0     0.0     0.0     0.0     0.0  \n",
      "9346        0.0     0.0     0.0     0.0     0.0  \n",
      "2220        0.0     0.0     0.0     0.0     0.0  \n",
      "15140       0.0     0.0     0.0     0.0     0.0  \n",
      "\n",
      "[5 rows x 30141 columns]\n"
     ]
    }
   ],
   "source": [
    "print(util_center.sample(n=5))"
   ]
  },
  {
   "cell_type": "markdown",
   "metadata": {},
   "source": [
    "Since we are dealing with 5 million data user data, we are expecting our pivot table to be extremely sparse. "
   ]
  },
  {
   "cell_type": "code",
   "execution_count": 10,
   "metadata": {},
   "outputs": [
    {
     "ename": "AttributeError",
     "evalue": "'DataFrame' object has no attribute 'as_matrix'",
     "output_type": "error",
     "traceback": [
      "\u001b[1;31m---------------------------------------------------------------------------\u001b[0m",
      "\u001b[1;31mAttributeError\u001b[0m                            Traceback (most recent call last)",
      "\u001b[1;32m<ipython-input-10-178b73d1c1dd>\u001b[0m in \u001b[0;36m<module>\u001b[1;34m\u001b[0m\n\u001b[1;32m----> 1\u001b[1;33m \u001b[0mutil_center_matrix\u001b[0m \u001b[1;33m=\u001b[0m \u001b[0mutil_center\u001b[0m\u001b[1;33m.\u001b[0m\u001b[0mas_matrix\u001b[0m\u001b[1;33m(\u001b[0m\u001b[1;33m)\u001b[0m\u001b[1;33m\u001b[0m\u001b[1;33m\u001b[0m\u001b[0m\n\u001b[0m",
      "\u001b[1;32mD:\\programming\\anaconda3\\lib\\site-packages\\pandas\\core\\generic.py\u001b[0m in \u001b[0;36m__getattr__\u001b[1;34m(self, name)\u001b[0m\n\u001b[0;32m   5463\u001b[0m             \u001b[1;32mif\u001b[0m \u001b[0mself\u001b[0m\u001b[1;33m.\u001b[0m\u001b[0m_info_axis\u001b[0m\u001b[1;33m.\u001b[0m\u001b[0m_can_hold_identifiers_and_holds_name\u001b[0m\u001b[1;33m(\u001b[0m\u001b[0mname\u001b[0m\u001b[1;33m)\u001b[0m\u001b[1;33m:\u001b[0m\u001b[1;33m\u001b[0m\u001b[1;33m\u001b[0m\u001b[0m\n\u001b[0;32m   5464\u001b[0m                 \u001b[1;32mreturn\u001b[0m \u001b[0mself\u001b[0m\u001b[1;33m[\u001b[0m\u001b[0mname\u001b[0m\u001b[1;33m]\u001b[0m\u001b[1;33m\u001b[0m\u001b[1;33m\u001b[0m\u001b[0m\n\u001b[1;32m-> 5465\u001b[1;33m             \u001b[1;32mreturn\u001b[0m \u001b[0mobject\u001b[0m\u001b[1;33m.\u001b[0m\u001b[0m__getattribute__\u001b[0m\u001b[1;33m(\u001b[0m\u001b[0mself\u001b[0m\u001b[1;33m,\u001b[0m \u001b[0mname\u001b[0m\u001b[1;33m)\u001b[0m\u001b[1;33m\u001b[0m\u001b[1;33m\u001b[0m\u001b[0m\n\u001b[0m\u001b[0;32m   5466\u001b[0m \u001b[1;33m\u001b[0m\u001b[0m\n\u001b[0;32m   5467\u001b[0m     \u001b[1;32mdef\u001b[0m \u001b[0m__setattr__\u001b[0m\u001b[1;33m(\u001b[0m\u001b[0mself\u001b[0m\u001b[1;33m,\u001b[0m \u001b[0mname\u001b[0m\u001b[1;33m:\u001b[0m \u001b[0mstr\u001b[0m\u001b[1;33m,\u001b[0m \u001b[0mvalue\u001b[0m\u001b[1;33m)\u001b[0m \u001b[1;33m->\u001b[0m \u001b[1;32mNone\u001b[0m\u001b[1;33m:\u001b[0m\u001b[1;33m\u001b[0m\u001b[1;33m\u001b[0m\u001b[0m\n",
      "\u001b[1;31mAttributeError\u001b[0m: 'DataFrame' object has no attribute 'as_matrix'"
     ]
    }
   ],
   "source": [
    "util_center_matrix = util_center.as_matrix()"
   ]
  },
  {
   "cell_type": "code",
   "execution_count": 11,
   "metadata": {},
   "outputs": [
    {
     "name": "stdout",
     "output_type": "stream",
     "text": [
      "99.98\n"
     ]
    }
   ],
   "source": [
    "print(100 * round(1- len(data) / float(user_count * movie_count), 4))"
   ]
  },
  {
   "cell_type": "markdown",
   "metadata": {},
   "source": [
    "We see that our matrix is 99.87% sparse."
   ]
  },
  {
   "cell_type": "code",
   "execution_count": 12,
   "metadata": {},
   "outputs": [
    {
     "name": "stdout",
     "output_type": "stream",
     "text": [
      "movieId\n",
      "901       1.000000\n",
      "123532    0.212625\n",
      "34608     0.204248\n",
      "91873     0.197325\n",
      "25830     0.194598\n",
      "            ...   \n",
      "159241         NaN\n",
      "160624         NaN\n",
      "166735         NaN\n",
      "180149         NaN\n",
      "198271         NaN\n",
      "Length: 33222, dtype: float64\n"
     ]
    }
   ],
   "source": [
    "print(util_center.corrwith(util_center[901]).sort_values(ascending = False))"
   ]
  },
  {
   "cell_type": "code",
   "execution_count": 10,
   "metadata": {},
   "outputs": [],
   "source": [
    "u, sigma, vt = svds(util_center, which = 'LM', k = 100)\n",
    "sigma = np.diag(sigma)"
   ]
  },
  {
   "cell_type": "code",
   "execution_count": 11,
   "metadata": {},
   "outputs": [],
   "source": [
    "user_predicted_ratings = u.dot(sigma).dot(vt) + means.reshape(-1,1)"
   ]
  },
  {
   "cell_type": "code",
   "execution_count": 12,
   "metadata": {},
   "outputs": [
    {
     "name": "stdout",
     "output_type": "stream",
     "text": [
      "movieId    1         2         3         4         5         6         7       \\\n",
      "0        3.908403  3.947827  3.909236  3.902087  3.917056  3.895524  3.903334   \n",
      "1        3.297040  3.387742  3.275006  3.280128  3.281031  3.301208  3.280634   \n",
      "2        3.953645  3.913993  3.951389  3.937006  3.946141  3.950878  3.943625   \n",
      "3        3.102676  3.780976  3.852823  3.831431  3.833114  3.899445  3.841287   \n",
      "4        4.045725  4.034305  4.046059  4.041711  4.047211  4.046597  4.044807   \n",
      "...           ...       ...       ...       ...       ...       ...       ...   \n",
      "9945     4.064878  4.021878  4.056004  4.048760  4.045073  4.045882  4.030160   \n",
      "9946     2.144370  3.527292  3.392433  3.421599  3.447385  3.357811  3.434576   \n",
      "9947     4.837960  4.840238  4.833264  4.833897  4.833409  4.834306  4.831931   \n",
      "9948     3.713039  3.691433  3.677982  3.685377  3.683485  3.669772  3.685734   \n",
      "9949     3.153229  3.143268  3.167767  3.136858  3.143392  3.156902  3.201883   \n",
      "\n",
      "movieId    8         9         10      ...    206863    206889    207145  \\\n",
      "0        3.902250  3.907873  3.899613  ...  3.900009  3.900376  3.899229   \n",
      "1        3.292298  3.305681  3.248804  ...  3.306235  3.306150  3.307026   \n",
      "2        3.938403  3.944502  3.992846  ...  3.944306  3.944220  3.945942   \n",
      "3        3.844458  3.857326  3.793691  ...  3.852558  3.853529  3.855279   \n",
      "4        4.045184  4.045955  4.048332  ...  4.045469  4.045399  4.045310   \n",
      "...           ...       ...       ...  ...       ...       ...       ...   \n",
      "9945     4.046826  4.039867  4.018501  ...  4.047717  4.047532  4.047169   \n",
      "9946     3.405485  3.414855  3.403275  ...  3.407582  3.408703  3.410067   \n",
      "9947     4.833332  4.832326  4.832903  ...  4.833325  4.833186  4.833260   \n",
      "9948     3.684534  3.680137  3.682540  ...  3.684328  3.684369  3.684560   \n",
      "9949     3.183376  3.187133  3.248091  ...  3.181190  3.182598  3.180909   \n",
      "\n",
      "movieId    207199    207243    207309    207343    208291    208699    208893  \n",
      "0        3.900510  3.900116  3.899151  3.899897  3.899939  3.899478  3.904813  \n",
      "1        3.307346  3.308334  3.304740  3.307041  3.306500  3.306426  3.298443  \n",
      "2        3.943876  3.943774  3.944156  3.944323  3.944286  3.944433  3.950581  \n",
      "3        3.851192  3.853536  3.853876  3.853451  3.853051  3.854536  3.837556  \n",
      "4        4.045316  4.045455  4.045526  4.045459  4.045463  4.045475  4.046034  \n",
      "...           ...       ...       ...       ...       ...       ...       ...  \n",
      "9945     4.046508  4.046578  4.047916  4.047653  4.047104  4.047497  4.047872  \n",
      "9946     3.408909  3.408302  3.406391  3.407878  3.407775  3.408346  3.402268  \n",
      "9947     4.833651  4.833284  4.833169  4.833314  4.833358  4.833350  4.833653  \n",
      "9948     3.685757  3.684360  3.683783  3.684104  3.684209  3.684631  3.681756  \n",
      "9949     3.180096  3.182062  3.181982  3.181957  3.182016  3.181096  3.181575  \n",
      "\n",
      "[9950 rows x 14814 columns]\n"
     ]
    }
   ],
   "source": [
    "preds = pd.DataFrame(user_predicted_ratings, columns = util_center.columns)\n",
    "# preds.head()\n",
    "\n",
    "print(preds)"
   ]
  },
  {
   "cell_type": "code",
   "execution_count": 32,
   "metadata": {},
   "outputs": [],
   "source": [
    "test = ratings[ratings['userId'] == 40500].iloc[:,:3]\n",
    "test_full = test.merge(movies.iloc[:,:2], left_on = 'movieId', right_on = 'movieId')\n",
    "test_recommend = movies[~movies['movieId'].isin(test_full['movieId'])].iloc[:,:2]"
   ]
  },
  {
   "cell_type": "code",
   "execution_count": 33,
   "metadata": {},
   "outputs": [],
   "source": [
    "sorted_preds = pd.DataFrame(preds.iloc[12 - 1].sort_values(ascending = False))\n",
    "test_recommend = test_recommend.merge(sorted_preds.reset_index(), left_on = 'movieId', right_on = 'movieId')"
   ]
  },
  {
   "cell_type": "code",
   "execution_count": 34,
   "metadata": {},
   "outputs": [
    {
     "data": {
      "text/html": [
       "<div>\n",
       "<style scoped>\n",
       "    .dataframe tbody tr th:only-of-type {\n",
       "        vertical-align: middle;\n",
       "    }\n",
       "\n",
       "    .dataframe tbody tr th {\n",
       "        vertical-align: top;\n",
       "    }\n",
       "\n",
       "    .dataframe thead th {\n",
       "        text-align: right;\n",
       "    }\n",
       "</style>\n",
       "<table border=\"1\" class=\"dataframe\">\n",
       "  <thead>\n",
       "    <tr style=\"text-align: right;\">\n",
       "      <th></th>\n",
       "      <th>movieId</th>\n",
       "      <th>title</th>\n",
       "      <th>Predictions</th>\n",
       "    </tr>\n",
       "  </thead>\n",
       "  <tbody>\n",
       "    <tr>\n",
       "      <th>514</th>\n",
       "      <td>527</td>\n",
       "      <td>Schindler's List</td>\n",
       "      <td>4.967304</td>\n",
       "    </tr>\n",
       "    <tr>\n",
       "      <th>309</th>\n",
       "      <td>318</td>\n",
       "      <td>Shawshank Redemption, The</td>\n",
       "      <td>3.985384</td>\n",
       "    </tr>\n",
       "    <tr>\n",
       "      <th>287</th>\n",
       "      <td>296</td>\n",
       "      <td>Pulp Fiction</td>\n",
       "      <td>3.944905</td>\n",
       "    </tr>\n",
       "    <tr>\n",
       "      <th>573</th>\n",
       "      <td>590</td>\n",
       "      <td>Dances with Wolves</td>\n",
       "      <td>3.665864</td>\n",
       "    </tr>\n",
       "    <tr>\n",
       "      <th>346</th>\n",
       "      <td>357</td>\n",
       "      <td>Four Weddings and a Funeral</td>\n",
       "      <td>3.494761</td>\n",
       "    </tr>\n",
       "    <tr>\n",
       "      <th>2143</th>\n",
       "      <td>2324</td>\n",
       "      <td>Life Is Beautiful (La Vita è bella)</td>\n",
       "      <td>3.479852</td>\n",
       "    </tr>\n",
       "    <tr>\n",
       "      <th>14</th>\n",
       "      <td>17</td>\n",
       "      <td>Sense and Sensibility</td>\n",
       "      <td>3.468101</td>\n",
       "    </tr>\n",
       "    <tr>\n",
       "      <th>1299</th>\n",
       "      <td>1391</td>\n",
       "      <td>Mars Attacks!</td>\n",
       "      <td>3.445802</td>\n",
       "    </tr>\n",
       "    <tr>\n",
       "      <th>496</th>\n",
       "      <td>509</td>\n",
       "      <td>Piano, The</td>\n",
       "      <td>3.437868</td>\n",
       "    </tr>\n",
       "    <tr>\n",
       "      <th>502</th>\n",
       "      <td>515</td>\n",
       "      <td>Remains of the Day, The</td>\n",
       "      <td>3.434655</td>\n",
       "    </tr>\n",
       "    <tr>\n",
       "      <th>750</th>\n",
       "      <td>784</td>\n",
       "      <td>Cable Guy, The</td>\n",
       "      <td>3.430759</td>\n",
       "    </tr>\n",
       "    <tr>\n",
       "      <th>1143</th>\n",
       "      <td>1208</td>\n",
       "      <td>Apocalypse Now</td>\n",
       "      <td>3.430228</td>\n",
       "    </tr>\n",
       "    <tr>\n",
       "      <th>1191</th>\n",
       "      <td>1265</td>\n",
       "      <td>Groundhog Day</td>\n",
       "      <td>3.423663</td>\n",
       "    </tr>\n",
       "    <tr>\n",
       "      <th>570</th>\n",
       "      <td>587</td>\n",
       "      <td>Ghost</td>\n",
       "      <td>3.421073</td>\n",
       "    </tr>\n",
       "    <tr>\n",
       "      <th>33</th>\n",
       "      <td>36</td>\n",
       "      <td>Dead Man Walking</td>\n",
       "      <td>3.418589</td>\n",
       "    </tr>\n",
       "    <tr>\n",
       "      <th>444</th>\n",
       "      <td>457</td>\n",
       "      <td>Fugitive, The</td>\n",
       "      <td>3.416151</td>\n",
       "    </tr>\n",
       "    <tr>\n",
       "      <th>495</th>\n",
       "      <td>508</td>\n",
       "      <td>Philadelphia</td>\n",
       "      <td>3.414511</td>\n",
       "    </tr>\n",
       "    <tr>\n",
       "      <th>257</th>\n",
       "      <td>265</td>\n",
       "      <td>Like Water for Chocolate (Como agua para choco...</td>\n",
       "      <td>3.409639</td>\n",
       "    </tr>\n",
       "    <tr>\n",
       "      <th>1148</th>\n",
       "      <td>1214</td>\n",
       "      <td>Alien</td>\n",
       "      <td>3.400898</td>\n",
       "    </tr>\n",
       "    <tr>\n",
       "      <th>2525</th>\n",
       "      <td>2716</td>\n",
       "      <td>Ghostbusters (a.k.a. Ghost Busters)</td>\n",
       "      <td>3.399894</td>\n",
       "    </tr>\n",
       "  </tbody>\n",
       "</table>\n",
       "</div>"
      ],
      "text/plain": [
       "      movieId                                              title  Predictions\n",
       "514       527                                   Schindler's List     4.967304\n",
       "309       318                          Shawshank Redemption, The     3.985384\n",
       "287       296                                       Pulp Fiction     3.944905\n",
       "573       590                                 Dances with Wolves     3.665864\n",
       "346       357                        Four Weddings and a Funeral     3.494761\n",
       "2143     2324                Life Is Beautiful (La Vita è bella)     3.479852\n",
       "14         17                              Sense and Sensibility     3.468101\n",
       "1299     1391                                      Mars Attacks!     3.445802\n",
       "496       509                                         Piano, The     3.437868\n",
       "502       515                            Remains of the Day, The     3.434655\n",
       "750       784                                     Cable Guy, The     3.430759\n",
       "1143     1208                                     Apocalypse Now     3.430228\n",
       "1191     1265                                      Groundhog Day     3.423663\n",
       "570       587                                              Ghost     3.421073\n",
       "33         36                                   Dead Man Walking     3.418589\n",
       "444       457                                      Fugitive, The     3.416151\n",
       "495       508                                       Philadelphia     3.414511\n",
       "257       265  Like Water for Chocolate (Como agua para choco...     3.409639\n",
       "1148     1214                                              Alien     3.400898\n",
       "2525     2716                Ghostbusters (a.k.a. Ghost Busters)     3.399894"
      ]
     },
     "execution_count": 34,
     "metadata": {},
     "output_type": "execute_result"
    }
   ],
   "source": [
    "test_recommend.rename(columns = {11: 'Predictions'}).sort_values('Predictions', ascending = False).iloc[:20, :]"
   ]
  },
  {
   "cell_type": "code",
   "execution_count": 13,
   "metadata": {},
   "outputs": [],
   "source": [
    "def recommend(preds, userId_re,userId_real, movies_df, ratings_df, num_recommendation):\n",
    "    sorted_preds = pd.DataFrame(preds.iloc[userId_re - 1].sort_values(ascending = False))\n",
    "    \n",
    "    given_user = ratings_df[ratings_df['userId'] == userId_real].iloc[:,:3]\n",
    "    full_user_data = given_user.merge(movies_df.iloc[:, :3], left_on = 'movieId', right_on = 'movieId')\n",
    "    \n",
    "    recommendations = movies_df[~movies['movieId'].isin(full_user_data['movieId'])].iloc[:,:3]\n",
    "    recommendations = recommendations.merge(sorted_preds.reset_index(), left_on = 'movieId', right_on = 'movieId')\n",
    "    recommendations = recommendations.rename(columns = {(userId_re - 1): 'Predictions' }).sort_values('Predictions', ascending = False)\n",
    "    recommendations['Normalized Predictions'] = (recommendations['Predictions'] - recommendations['Predictions'].min()) /(\n",
    "                                                recommendations['Predictions'].max()-recommendations['Predictions'].min())\n",
    "    return full_user_data, recommendations.iloc[:num_recommendation,:]"
   ]
  },
  {
   "cell_type": "code",
   "execution_count": 14,
   "metadata": {},
   "outputs": [],
   "source": [
    "import csv\n",
    "\n",
    "# headers = ['userId','movie1','movie2','movie3','movie4','movie5']\n",
    "\n",
    "with open('test8_20.csv','a+',newline='')as f:\n",
    "    f_csv = csv.writer(f)\n",
    "#     f_csv.writerow(headers)\n",
    "    \n",
    "    user_list = sorted(list(set(data[\"userId\"].values)))\n",
    "    \n",
    "    for index, userId in enumerate(user_list):\n",
    "        watched,predictions = recommend(preds,index+1,userId, movies, ratings, 5)\n",
    "#         top_5 = []\n",
    "#         temp = list(predictions[\"movieId\"].values)\n",
    "#         temp.insert(0,1)\n",
    "#         top_5.append(temp)\n",
    "        top_5 = list(predictions[\"movieId\"].values)\n",
    "        top_5.insert(0,userId)\n",
    "        f_csv.writerow(top_5)\n",
    "\n",
    "\n",
    "# watched,predictions = recommend(preds, 1, movies, ratings, 5)\n",
    "# # print(\"The user watched:\\n\")\n",
    "# # print(display(HTML(watched.to_html())))\n",
    "# print('\\nWe will recommend the user:\\n')\n",
    "# top_5 = []\n",
    "# temp = list(predictions[\"movieId\"].values)\n",
    "# temp.insert(0,1)\n",
    "# top_5.append(temp)\n",
    "# print(top_5)\n",
    "\n"
   ]
  },
  {
   "cell_type": "code",
   "execution_count": 23,
   "metadata": {},
   "outputs": [
    {
     "name": "stdout",
     "output_type": "stream",
     "text": [
      "Wall time: 123 ms\n"
     ]
    }
   ],
   "source": [
    "%%time\n",
    "all_watch, all_preds = recommend(preds, 123,movies,ratings,movie_count)"
   ]
  },
  {
   "cell_type": "code",
   "execution_count": 24,
   "metadata": {},
   "outputs": [
    {
     "name": "stdout",
     "output_type": "stream",
     "text": [
      "0.03171053596304715\n"
     ]
    }
   ],
   "source": [
    "item_coverage = (all_preds.shape[0]/movie_count)\n",
    "print(item_coverage)"
   ]
  },
  {
   "cell_type": "code",
   "execution_count": 25,
   "metadata": {},
   "outputs": [],
   "source": [
    "def coverage(preds, movies, ratings, movie_count, user_count, user_range, type):\n",
    "    preds_length = []\n",
    "    coverage = []\n",
    "    for i in range(1, user_range):\n",
    "        all_watch, all_preds = recommend(preds, i, movies, ratings, movie_count)\n",
    "        preds_length.append(all_preds.shape[0])\n",
    "    if (type == 'item'):\n",
    "        return [length/movie_count for length in preds_length]\n",
    "    elif (type == 'user'):\n",
    "        return [user_r/user_count for user_r in range(1,user_range)]\n",
    "    elif (type == 'catalog'):\n",
    "        return (len(preds_length))/(movie_count, user_count)"
   ]
  },
  {
   "cell_type": "code",
   "execution_count": 26,
   "metadata": {},
   "outputs": [
    {
     "name": "stdout",
     "output_type": "stream",
     "text": [
      "Wall time: 24 s\n"
     ]
    }
   ],
   "source": [
    "%%time\n",
    "item_coverage = coverage(preds,movies,ratings,movie_count,user_count,100,'item')\n",
    "user_coverage = coverage(preds,movies,ratings,movie_count,user_count,100,'user')\n",
    "#print(coverage(preds,movies,ratings,movie_count,data.shape[0],'catalog'))"
   ]
  },
  {
   "cell_type": "code",
   "execution_count": 27,
   "metadata": {},
   "outputs": [
    {
     "data": {
      "text/plain": [
       "[<matplotlib.lines.Line2D at 0x21300238d88>]"
      ]
     },
     "execution_count": 27,
     "metadata": {},
     "output_type": "execute_result"
    },
    {
     "data": {
      "image/png": "[encoded data removed]",
      "text/plain": [
       "<Figure size 432x288 with 1 Axes>"
      ]
     },
     "metadata": {
      "needs_background": "light"
     },
     "output_type": "display_data"
    }
   ],
   "source": [
    "plt.title('Item Coverage for 100 Users')\n",
    "plt.xlabel('userId')\n",
    "plt.plot(item_coverage, 'ro')"
   ]
  },
  {
   "cell_type": "code",
   "execution_count": 28,
   "metadata": {},
   "outputs": [
    {
     "data": {
      "text/plain": [
       "[<matplotlib.lines.Line2D at 0x2130033ed88>]"
      ]
     },
     "execution_count": 28,
     "metadata": {},
     "output_type": "execute_result"
    },
    {
     "data": {
      "image/png": "[encoded data removed]",
      "text/plain": [
       "<Figure size 432x288 with 1 Axes>"
      ]
     },
     "metadata": {
      "needs_background": "light"
     },
     "output_type": "display_data"
    }
   ],
   "source": [
    "plt.title('User Coverage for 100 Users')\n",
    "plt.xlabel('userId')\n",
    "plt.plot(user_coverage, 'bo')"
   ]
  },
  {
   "cell_type": "markdown",
   "metadata": {},
   "source": [
    "## Conclusion"
   ]
  },
  {
   "cell_type": "markdown",
   "metadata": {},
   "source": [
    "This is a collaborative filtering matrix factorization movie recommender system using SVD to reduce the dimensionality of the pivot table calculated above. We do this because we have 20 million user data and we are sampling 5 million user data. Since we have so much data, we want to reduce dimensionality. This can be seen with how sparse our data was, even with sampling 5 million users. We found that the matrix was 99.9% sparse. This makes sense since movies don't all share similar genre tags. Similarly, users don't watch all movies. With how large and how sparse our matrix was, using SVD helps reduce dimensionality and gives us a sense of which users are watching similar things. This is done with collaborative filtering as we look at users who share similar movie patterns as other users and recommend them movie predictions. Since we are using SVD, however, we can expect that we will lose some crucial information about the user data.\n",
    "\n",
    "From above, we see that given all of the information we have about userId: 112, we can predict them movies that they haven't seen and that are of similar genres. In the case of userId: 112, we can see that he is being recommended a lot of crime/thriller/mystery/action movies."
   ]
  },
  {
   "cell_type": "code",
   "execution_count": 34,
   "metadata": {},
   "outputs": [],
   "source": [
    "from surprise import SVD, SVDpp\n",
    "from surprise.accuracy import rmse, mse\n",
    "from surprise import Reader\n",
    "from surprise import Dataset\n",
    "from surprise.model_selection import cross_validate\n",
    "from surprise import accuracy\n",
    "from surprise.model_selection import train_test_split"
   ]
  },
  {
   "cell_type": "code",
   "execution_count": 36,
   "metadata": {},
   "outputs": [],
   "source": [
    "reader = Reader(rating_scale=(0.5,5))\n",
    "r_data = Dataset.load_from_df(ratings.iloc[:,:3], reader)"
   ]
  },
  {
   "cell_type": "code",
   "execution_count": null,
   "metadata": {},
   "outputs": [],
   "source": [
    "%%time\n",
    "benchmark = []\n",
    "for algorithm in [SVD(), SVDpp()]:\n",
    "    results = cross_validate(algorithm, r_data, verbose=False)\n",
    "    \n",
    "    tmp = pd.DataFrame.from_dict(results).mean(axis=0)\n",
    "    tmp = tmp.append(pd.Series([str(algorithm).split(' ')[0].split('.')[-1]], index=['Algorithm']))\n",
    "    benchmark.append(tmp)"
   ]
  },
  {
   "cell_type": "code",
   "execution_count": 38,
   "metadata": {},
   "outputs": [
    {
     "name": "stdout",
     "output_type": "stream",
     "text": [
      "ERROR! Session/line number was not unique in database. History logging moved to new session 143\n"
     ]
    },
    {
     "name": "stderr",
     "output_type": "stream",
     "text": [
      "ERROR:root:Internal Python error in the inspect module.\n",
      "Below is the traceback from this internal error.\n",
      "\n",
      "\n",
      "KeyboardInterrupt\n",
      "\n"
     ]
    }
   ],
   "source": [
    "%%time\n",
    "results = cross_validate(SVD(), r_data, verbose = False)\n",
    "tmp = pd.DataFrame.from_dict(results).mean(axis = 0)"
   ]
  },
  {
   "cell_type": "code",
   "execution_count": null,
   "metadata": {},
   "outputs": [],
   "source": []
  }
 ],
 "metadata": {
  "kernelspec": {
   "display_name": "Python 3",
   "language": "python",
   "name": "python3"
  },
  "language_info": {
   "codemirror_mode": {
    "name": "ipython",
    "version": 3
   },
   "file_extension": ".py",
   "mimetype": "text/x-python",
   "name": "python",
   "nbconvert_exporter": "python",
   "pygments_lexer": "ipython3",
   "version": "3.8.8"
  }
 },
 "nbformat": 4,
 "nbformat_minor": 4
}
